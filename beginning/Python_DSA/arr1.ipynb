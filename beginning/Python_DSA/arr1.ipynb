{
 "cells": [
  {
   "cell_type": "code",
   "execution_count": 6,
   "id": "927b9058",
   "metadata": {},
   "outputs": [],
   "source": [
    "import ctypes"
   ]
  },
  {
   "cell_type": "code",
   "execution_count": 69,
   "id": "d1467dfa",
   "metadata": {},
   "outputs": [],
   "source": [
    "class meralist:\n",
    "    def __init__(self):\n",
    "        self.size = 1\n",
    "        self.n = 0\n",
    "        #create a ctype array with size = self.size\n",
    "        self.A = self._make_array(self.size)\n",
    "    def _make_array(self, capacity):\n",
    "        arr = (capacity * ctypes.py_object)()\n",
    "        for i in range(capacity):\n",
    "            arr[i] = None\n",
    "        return arr\n",
    "\n",
    "    def __len__(self):\n",
    "         return self.n\n",
    "    \n",
    "    def append(self, item):\n",
    "        if self.n == self.size:\n",
    "            self.__resize(self.size * 2)\n",
    "        self.A[self.n] = item\n",
    "        self.n += 1\n",
    "    \n",
    "    def __resize(self, new_capacity):\n",
    "        B = self._make_array(new_capacity)\n",
    "        for i in range(self.n):\n",
    "            B[i] = self.A[i]\n",
    "            self.A = B\n",
    "        self.size = new_capacity\n",
    "#this code creates a c type array with size capacity also, it is a refrencial array."
   ]
  },
  {
   "cell_type": "code",
   "execution_count": 70,
   "id": "0f36f26e",
   "metadata": {},
   "outputs": [],
   "source": [
    "L = meralist()"
   ]
  },
  {
   "cell_type": "code",
   "execution_count": 71,
   "id": "5c582c17",
   "metadata": {},
   "outputs": [
    {
     "name": "stdout",
     "output_type": "stream",
     "text": [
      "<__main__.meralist object at 0x000001DA64989820>\n"
     ]
    }
   ],
   "source": [
    "print(L)"
   ]
  },
  {
   "cell_type": "code",
   "execution_count": 72,
   "id": "32d0e6e6",
   "metadata": {},
   "outputs": [
    {
     "data": {
      "text/plain": [
       "0"
      ]
     },
     "execution_count": 72,
     "metadata": {},
     "output_type": "execute_result"
    }
   ],
   "source": [
    "len(L)"
   ]
  },
  {
   "cell_type": "code",
   "execution_count": 73,
   "id": "f04f0586",
   "metadata": {},
   "outputs": [],
   "source": [
    "L.append('helo')"
   ]
  },
  {
   "cell_type": "code",
   "execution_count": 74,
   "id": "fc1363ab",
   "metadata": {},
   "outputs": [],
   "source": [
    "L.append(1)"
   ]
  },
  {
   "cell_type": "code",
   "execution_count": null,
   "id": "98288f68",
   "metadata": {},
   "outputs": [],
   "source": []
  },
  {
   "cell_type": "code",
   "execution_count": null,
   "id": "57891d43",
   "metadata": {},
   "outputs": [],
   "source": []
  },
  {
   "cell_type": "code",
   "execution_count": null,
   "id": "dacde816",
   "metadata": {},
   "outputs": [],
   "source": []
  }
 ],
 "metadata": {
  "kernelspec": {
   "display_name": "base",
   "language": "python",
   "name": "python3"
  },
  "language_info": {
   "codemirror_mode": {
    "name": "ipython",
    "version": 3
   },
   "file_extension": ".py",
   "mimetype": "text/x-python",
   "name": "python",
   "nbconvert_exporter": "python",
   "pygments_lexer": "ipython3",
   "version": "3.12.7"
  }
 },
 "nbformat": 4,
 "nbformat_minor": 5
}
